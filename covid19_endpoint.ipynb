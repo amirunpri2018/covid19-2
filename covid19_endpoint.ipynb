{
 "cells": [
  {
   "cell_type": "code",
   "execution_count": 2,
   "metadata": {},
   "outputs": [],
   "source": [
    "import subprocess\n",
    "from apscheduler.schedulers.background import BackgroundScheduler\n",
    "from apscheduler.triggers.interval import IntervalTrigger\n",
    "import atexit\n",
    "\n",
    "from flask import Flask, jsonify, request\n",
    "from flask_cors import CORS, cross_origin\n",
    "import pandas as pd\n",
    "import numpy as np\n",
    "\n",
    "import covid19_model as model"
   ]
  },
  {
   "cell_type": "code",
   "execution_count": 3,
   "metadata": {},
   "outputs": [
    {
     "name": "stderr",
     "output_type": "stream",
     "text": [
      "INFO:apscheduler.scheduler:Scheduler started\n",
      "INFO:apscheduler.scheduler:Added job \"calculate_forecast\" to job store \"default\"\n"
     ]
    },
    {
     "data": {
      "text/plain": [
       "<function __main__.<lambda>()>"
      ]
     },
     "execution_count": 3,
     "metadata": {},
     "output_type": "execute_result"
    }
   ],
   "source": [
    "access_count = 0\n",
    "\n",
    "scheduler = BackgroundScheduler()\n",
    "scheduler.start()\n",
    "\n",
    "scheduler.add_job(\n",
    "    func=model.calculate_forecast,\n",
    "    trigger='cron',\n",
    "    hour='3', \n",
    "    minute='00')\n",
    "\n",
    "atexit.register(lambda: scheduler.shutdown())"
   ]
  },
  {
   "cell_type": "code",
   "execution_count": 6,
   "metadata": {},
   "outputs": [
    {
     "name": "stdout",
     "output_type": "stream",
     "text": [
      " * Serving Flask app \"__main__\" (lazy loading)\n",
      " * Environment: production\n",
      "   WARNING: Do not use the development server in a production environment.\n",
      "   Use a production WSGI server instead.\n",
      " * Debug mode: off\n"
     ]
    },
    {
     "name": "stderr",
     "output_type": "stream",
     "text": [
      "INFO:werkzeug: * Running on http://0.0.0.0:3000/ (Press CTRL+C to quit)\n",
      "INFO:werkzeug:172.17.0.1 - - [03/Apr/2020 11:13:45] \"\u001b[37mPOST /katana-ml/api/v1.0/forecast/covid19 HTTP/1.1\u001b[0m\" 200 -\n",
      "INFO:werkzeug:172.17.0.1 - - [03/Apr/2020 11:14:33] \"\u001b[37mPOST /katana-ml/api/v1.0/forecast/covid19/count HTTP/1.1\u001b[0m\" 200 -\n",
      "INFO:werkzeug:172.17.0.1 - - [03/Apr/2020 11:14:37] \"\u001b[37mPOST /katana-ml/api/v1.0/forecast/covid19 HTTP/1.1\u001b[0m\" 200 -\n",
      "INFO:werkzeug:172.17.0.1 - - [03/Apr/2020 11:14:40] \"\u001b[37mPOST /katana-ml/api/v1.0/forecast/covid19/count HTTP/1.1\u001b[0m\" 200 -\n",
      "ERROR:flask.app:Exception on /katana-ml/api/v1.0/forecast/covid19 [POST]\n",
      "Traceback (most recent call last):\n",
      "  File \"/opt/conda/lib/python3.6/site-packages/flask/app.py\", line 2292, in wsgi_app\n",
      "    response = self.full_dispatch_request()\n",
      "  File \"/opt/conda/lib/python3.6/site-packages/flask/app.py\", line 1815, in full_dispatch_request\n",
      "    rv = self.handle_user_exception(e)\n",
      "  File \"/opt/conda/lib/python3.6/site-packages/flask_cors/extension.py\", line 161, in wrapped_function\n",
      "    return cors_after_request(app.make_response(f(*args, **kwargs)))\n",
      "  File \"/opt/conda/lib/python3.6/site-packages/flask/app.py\", line 1718, in handle_user_exception\n",
      "    reraise(exc_type, exc_value, tb)\n",
      "  File \"/opt/conda/lib/python3.6/site-packages/flask/_compat.py\", line 35, in reraise\n",
      "    raise value\n",
      "  File \"/opt/conda/lib/python3.6/site-packages/flask/app.py\", line 1813, in full_dispatch_request\n",
      "    rv = self.dispatch_request()\n",
      "  File \"/opt/conda/lib/python3.6/site-packages/flask/app.py\", line 1799, in dispatch_request\n",
      "    return self.view_functions[rule.endpoint](**req.view_args)\n",
      "  File \"<ipython-input-6-204d5b97d8dc>\", line 11, in forecast\n",
      "    df = pd.read_csv('data/covid19_forecast_data_' + country + '.csv', parse_dates=True)\n",
      "  File \"/opt/conda/lib/python3.6/site-packages/pandas/io/parsers.py\", line 678, in parser_f\n",
      "    return _read(filepath_or_buffer, kwds)\n",
      "  File \"/opt/conda/lib/python3.6/site-packages/pandas/io/parsers.py\", line 440, in _read\n",
      "    parser = TextFileReader(filepath_or_buffer, **kwds)\n",
      "  File \"/opt/conda/lib/python3.6/site-packages/pandas/io/parsers.py\", line 787, in __init__\n",
      "    self._make_engine(self.engine)\n",
      "  File \"/opt/conda/lib/python3.6/site-packages/pandas/io/parsers.py\", line 1014, in _make_engine\n",
      "    self._engine = CParserWrapper(self.f, **self.options)\n",
      "  File \"/opt/conda/lib/python3.6/site-packages/pandas/io/parsers.py\", line 1708, in __init__\n",
      "    self._reader = parsers.TextReader(src, **kwds)\n",
      "  File \"pandas/_libs/parsers.pyx\", line 384, in pandas._libs.parsers.TextReader.__cinit__\n",
      "  File \"pandas/_libs/parsers.pyx\", line 695, in pandas._libs.parsers.TextReader._setup_parser_source\n",
      "FileNotFoundError: File b'data/covid19_forecast_data_Lithuania1_cases.csv' does not exist\n",
      "INFO:werkzeug:172.17.0.1 - - [03/Apr/2020 11:22:49] \"\u001b[1m\u001b[35mPOST /katana-ml/api/v1.0/forecast/covid19 HTTP/1.1\u001b[0m\" 500 -\n",
      "INFO:werkzeug:172.17.0.1 - - [03/Apr/2020 11:23:39] \"\u001b[37mPOST /katana-ml/api/v1.0/forecast/covid19 HTTP/1.1\u001b[0m\" 200 -\n"
     ]
    }
   ],
   "source": [
    "app = Flask(__name__)\n",
    "CORS(app)\n",
    "\n",
    "@app.route(\"/katana-ml/api/v1.0/forecast/covid19\", methods=['POST'])\n",
    "def forecast():\n",
    "    global access_count\n",
    "    access_count += 1\n",
    "    \n",
    "    country = request.json['country']\n",
    "    \n",
    "    df = pd.read_csv('data/covid19_forecast_data_' + country + '.csv', parse_dates=True)\n",
    "    df = df.drop(df.columns[[0]], axis=1)\n",
    "    \n",
    "    result = df.to_json(orient='records', date_format='iso')\n",
    "    return result\n",
    "\n",
    "@app.route(\"/katana-ml/api/v1.0/forecast/covid19/count\", methods=['POST'])\n",
    "def g():\n",
    "    global access_count\n",
    "    return str(access_count)\n",
    "\n",
    "# running REST interface port=3000\n",
    "if __name__ == \"__main__\":\n",
    "    app.run(debug=False, host='0.0.0.0', port=3000)"
   ]
  },
  {
   "cell_type": "code",
   "execution_count": null,
   "metadata": {},
   "outputs": [],
   "source": []
  }
 ],
 "metadata": {
  "kernelspec": {
   "display_name": "Python 3",
   "language": "python",
   "name": "python3"
  },
  "language_info": {
   "codemirror_mode": {
    "name": "ipython",
    "version": 3
   },
   "file_extension": ".py",
   "mimetype": "text/x-python",
   "name": "python",
   "nbconvert_exporter": "python",
   "pygments_lexer": "ipython3",
   "version": "3.6.7"
  }
 },
 "nbformat": 4,
 "nbformat_minor": 4
}
